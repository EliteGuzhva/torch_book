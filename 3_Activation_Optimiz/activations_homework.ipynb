{
 "cells": [
  {
   "cell_type": "markdown",
   "id": "443c06a4",
   "metadata": {},
   "source": [
    "Дана некоторая функция f(x):"
   ]
  },
  {
   "cell_type": "code",
   "execution_count": 2,
   "id": "b45b21cf",
   "metadata": {},
   "outputs": [],
   "source": [
    "import numpy as np\n",
    "def f(x):\n",
    "    return x * np.sin(x * 2 * np.pi) if x < 0 else -x * np.sin(x * np.pi) + np.exp(x / 2) - np.exp(0)"
   ]
  },
  {
   "cell_type": "markdown",
   "id": "05fe9618",
   "metadata": {},
   "source": [
    "задан X - тысяча точек от -3 до 3:"
   ]
  },
  {
   "cell_type": "code",
   "execution_count": 3,
   "id": "1569bc26",
   "metadata": {},
   "outputs": [],
   "source": [
    "x = np.linspace(-3, 3, 1000).reshape(-1, 1)"
   ]
  },
  {
   "cell_type": "markdown",
   "id": "728193cb",
   "metadata": {},
   "source": [
    "график функции:"
   ]
  },
  {
   "cell_type": "code",
   "execution_count": 5,
   "id": "39e082fb",
   "metadata": {},
   "outputs": [
    {
     "data": {
      "text/plain": [
       "[<matplotlib.lines.Line2D at 0x2996e4857c0>]"
      ]
     },
     "execution_count": 5,
     "metadata": {},
     "output_type": "execute_result"
    },
    {
     "data": {
      "image/png": "[encoded data removed]",
      "text/plain": [
       "<Figure size 432x288 with 1 Axes>"
      ]
     },
     "metadata": {
      "needs_background": "light"
     },
     "output_type": "display_data"
    }
   ],
   "source": [
    "from matplotlib import pyplot as plt\n",
    "f = np.vectorize(f)\n",
    "# вычисляем вектор значений функции\n",
    "y = f(x)\n",
    "plt.plot(y)"
   ]
  },
  {
   "cell_type": "markdown",
   "id": "1a6f74aa",
   "metadata": {},
   "source": [
    "<h2 style=\"text-align: center;\"><b>Задание</b></h2>"
   ]
  },
  {
   "cell_type": "markdown",
   "id": "d4f5c0fb",
   "metadata": {},
   "source": [
    "1. попробовать обучить однослойную модель нейронных сетей предсказывать значения функции с разными активациями:\n",
    " - ReLU\n",
    " - Sigmoid\n",
    " - Tanh\n",
    " \n",
    " и параметрами:\n",
    " - кол-во нейронов\n",
    " - кол-во эпох\n",
    " - learning_rate\n",
    " \n",
    "2. визуализировать и сравнить результаты\n",
    "3. попробовать \"разложить\" однослойную сеть с активацией tanh и посмотреть ее составляющие, о чем нам говорит разложение?"
   ]
  },
  {
   "cell_type": "markdown",
   "id": "519021a6",
   "metadata": {},
   "source": [
    "преобразование данных torch"
   ]
  },
  {
   "cell_type": "code",
   "execution_count": 7,
   "id": "c3708704",
   "metadata": {},
   "outputs": [],
   "source": [
    "from torch.utils.data import DataLoader, TensorDataset\n",
    "from torch import Tensor\n",
    "\n",
    "batch = 100\n",
    "dataset = TensorDataset(Tensor(x), Tensor(y))\n",
    "loader = DataLoader(dataset, batch_size=batch) # default batch size = 1"
   ]
  },
  {
   "cell_type": "code",
   "execution_count": null,
   "id": "fbe2a082",
   "metadata": {},
   "outputs": [],
   "source": [
    "def train():\n",
    "    # код обучения"
   ]
  },
  {
   "cell_type": "code",
   "execution_count": null,
   "id": "8be1dcaa",
   "metadata": {},
   "outputs": [],
   "source": [
    "def predict():\n",
    "    # код инференса"
   ]
  },
  {
   "cell_type": "markdown",
   "id": "fb2708c4",
   "metadata": {},
   "source": [
    "### пример сети с ReLU"
   ]
  },
  {
   "cell_type": "code",
   "execution_count": null,
   "id": "596d3d61",
   "metadata": {},
   "outputs": [],
   "source": [
    "# model with relu\n",
    "net_relu = nn.Sequential(\n",
    "    nn.Linear(1, 100),\n",
    "    nn.ReLU(),\n",
    "    nn.Linear(100, 1)\n",
    ")\n",
    "print(net_relu)\n",
    "optimizer=torch.optim.SGD(net_relu.parameters(), lr=0.001, momentum=0.9)\n",
    "train(net_relu, loader, optimizer=optimizer, epochs=1000, device='cuda')\n",
    "preds_relu = predict(net_relu, x)\n",
    "\n",
    "# visualization\n",
    "plt.scatter(x, y, color='black', antialiased=True)\n",
    "plt.plot(x, preds_relu, color='red', linewidth=3, antialiased=True)\n",
    "plt.show()"
   ]
  },
  {
   "cell_type": "markdown",
   "id": "20f489cd",
   "metadata": {},
   "source": [
    "### Sigmoid"
   ]
  },
  {
   "cell_type": "code",
   "execution_count": null,
   "id": "c1016102",
   "metadata": {},
   "outputs": [],
   "source": [
    "# train with sigmoid"
   ]
  },
  {
   "cell_type": "markdown",
   "id": "087f5d64",
   "metadata": {},
   "source": [
    "### Tanh"
   ]
  },
  {
   "cell_type": "code",
   "execution_count": null,
   "id": "4ce47cea",
   "metadata": {},
   "outputs": [],
   "source": [
    "# train with tanh"
   ]
  },
  {
   "cell_type": "markdown",
   "id": "82d45c8b",
   "metadata": {},
   "source": [
    "### визуализация разложения"
   ]
  },
  {
   "cell_type": "code",
   "execution_count": null,
   "id": "1803abcc",
   "metadata": {},
   "outputs": [],
   "source": [
    "# разложение весов\n",
    "def tanh(x, i):\n",
    "    w0 = net_tanh[0].weight\n",
    "    w1 = net_tanh[2].weight\n",
    "    b0 = net_tanh[0].bias\n",
    "    b1 = net_tanh[2].bias\n",
    "    \n",
    "    return # функция прямого прохода по сети с np.tanh\n"
   ]
  },
  {
   "cell_type": "code",
   "execution_count": null,
   "id": "6ac76137",
   "metadata": {},
   "outputs": [],
   "source": [
    "# рисуем функцию и приближение\n",
    "plt.scatter(x, y, color='black', antialiased=True)\n",
    "plt.plot(x, preds_tanh, color='red', linewidth=2, antialiased=True)\n",
    "\n",
    "# рисуем разложение\n",
    "for i in range(0, 20, 1):\n",
    "    plt.plot(x, tanh(x, i), color='blue',\n",
    "         linewidth=1)\n",
    "plt.show()"
   ]
  },
  {
   "cell_type": "code",
   "execution_count": null,
   "id": "a6598ff9",
   "metadata": {},
   "outputs": [],
   "source": [
    "# попробуйте аналогично разложить net_sigmoid"
   ]
  }
 ],
 "metadata": {
  "kernelspec": {
   "display_name": "Python 3.9.10 64-bit",
   "language": "python",
   "name": "python3"
  },
  "language_info": {
   "codemirror_mode": {
    "name": "ipython",
    "version": 3
   },
   "file_extension": ".py",
   "mimetype": "text/x-python",
   "name": "python",
   "nbconvert_exporter": "python",
   "pygments_lexer": "ipython3",
   "version": "3.9.10"
  },
  "vscode": {
   "interpreter": {
    "hash": "f058b16a5b89e36a8da20ba59d5eb06b7ef416d723bb07c4a79ade65a8e48de6"
   }
  }
 },
 "nbformat": 4,
 "nbformat_minor": 5
}
